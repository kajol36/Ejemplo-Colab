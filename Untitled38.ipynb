{
  "nbformat": 4,
  "nbformat_minor": 0,
  "metadata": {
    "colab": {
      "provenance": [],
      "authorship_tag": "ABX9TyPN5JwNU4bIt2RDSUQMwqne",
      "include_colab_link": true
    },
    "kernelspec": {
      "name": "python3",
      "display_name": "Python 3"
    },
    "language_info": {
      "name": "python"
    }
  },
  "cells": [
    {
      "cell_type": "markdown",
      "metadata": {
        "id": "view-in-github",
        "colab_type": "text"
      },
      "source": [
        "<a href=\"https://colab.research.google.com/github/kajol36/Ejemplo-Colab/blob/EJEMPLOO/Untitled38.ipynb\" target=\"_parent\"><img src=\"https://colab.research.google.com/assets/colab-badge.svg\" alt=\"Open In Colab\"/></a>"
      ]
    },
    {
      "cell_type": "code",
      "execution_count": 1,
      "metadata": {
        "colab": {
          "base_uri": "https://localhost:8080/"
        },
        "id": "kwUXivxo9Z0W",
        "outputId": "7fd3dc9a-0823-4326-aa8f-60af89a13aa8"
      },
      "outputs": [
        {
          "output_type": "stream",
          "name": "stdout",
          "text": [
            "El factorial de 5 es: 120\n",
            "El factorial de 0 es: 1\n",
            "El factorial de 7 es: 5040\n",
            "El factorial de -3 es: Error: El factorial no está definido para números negativos.\n"
          ]
        }
      ],
      "source": [
        "\n",
        "\n",
        "def factorial(n):\n",
        "  \"\"\"\n",
        "  Calcula el factorial de un número entero no negativo.\n",
        "\n",
        "  Args:\n",
        "    n: Un número entero no negativo.\n",
        "\n",
        "  Returns:\n",
        "    El factorial de n.\n",
        "    Devuelve un mensaje de error si n es negativo.\n",
        "  \"\"\"\n",
        "  # Tu código va aquí\n",
        "  # Pista: ¡Piensa en un caso base y en un bucle o recursión!\n",
        "  if n < 0:\n",
        "    return \"Error: El factorial no está definido para números negativos.\"\n",
        "  elif n == 0:\n",
        "    return 1\n",
        "  else:\n",
        "    resultado = 1\n",
        "    for i in range(1, n + 1):\n",
        "      resultado *= i\n",
        "    return resultado\n",
        "\n",
        "\n",
        "# --- PRUEBA TU CÓDIGO AQUÍ ---\n",
        "\n",
        "# Prueba con algunos números\n",
        "numero1 = 5\n",
        "print(f\"El factorial de {numero1} es: {factorial(numero1)}\") # Debería ser 120\n",
        "\n",
        "numero2 = 0\n",
        "print(f\"El factorial de {numero2} es: {factorial(numero2)}\") # Debería ser 1\n",
        "\n",
        "numero3 = 7\n",
        "print(f\"El factorial de {numero3} es: {factorial(numero3)}\") # Debería ser 5040\n",
        "\n",
        "numero4 = -3\n",
        "print(f\"El factorial de {numero4} es: {factorial(numero4)}\") # Debería mostrar un error"
      ]
    }
  ]
}