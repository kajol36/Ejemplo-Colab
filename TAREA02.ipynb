{
  "nbformat": 4,
  "nbformat_minor": 0,
  "metadata": {
    "colab": {
      "provenance": [],
      "name": "TAREA02.ipynb",
      "authorship_tag": "ABX9TyNijsuZMLDXrcMQyLUR39SI",
      "include_colab_link": true
    },
    "kernelspec": {
      "name": "python3",
      "display_name": "Python 3"
    },
    "language_info": {
      "name": "python"
    }
  },
  "cells": [
    {
      "cell_type": "markdown",
      "metadata": {
        "id": "view-in-github",
        "colab_type": "text"
      },
      "source": [
        "<a href=\"https://colab.research.google.com/github/kajol36/Ejemplo-Colab/blob/TAREA02/TAREA02.ipynb\" target=\"_parent\"><img src=\"https://colab.research.google.com/assets/colab-badge.svg\" alt=\"Open In Colab\"/></a>"
      ]
    },
    {
      "cell_type": "code",
      "execution_count": null,
      "metadata": {
        "colab": {
          "base_uri": "https://localhost:8080/"
        },
        "id": "WTtEvHSW0sh5",
        "outputId": "d55f56b4-839e-4e95-b435-f2f2cdd6b133"
      },
      "outputs": [
        {
          "output_type": "stream",
          "name": "stdout",
          "text": [
            "El área del triángulo es: 25.0\n"
          ]
        }
      ],
      "source": [
        "base = 5\n",
        "altura = 10\n",
        "area = (base * altura) / 2\n",
        "\n",
        "print(\"El área del triángulo es:\", area)"
      ]
    }
  ]
}