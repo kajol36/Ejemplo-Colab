{
  "nbformat": 4,
  "nbformat_minor": 0,
  "metadata": {
    "colab": {
      "provenance": [],
      "authorship_tag": "ABX9TyPn0TE57Deo7koSu+4AYAux",
      "include_colab_link": true
    },
    "kernelspec": {
      "name": "python3",
      "display_name": "Python 3"
    },
    "language_info": {
      "name": "python"
    }
  },
  "cells": [
    {
      "cell_type": "markdown",
      "metadata": {
        "id": "view-in-github",
        "colab_type": "text"
      },
      "source": [
        "<a href=\"https://colab.research.google.com/github/kajol36/Ejemplo-Colab/blob/main/Tarea.ipynb\" target=\"_parent\"><img src=\"https://colab.research.google.com/assets/colab-badge.svg\" alt=\"Open In Colab\"/></a>"
      ]
    },
    {
      "cell_type": "markdown",
      "source": [
        "1. Escribe un programa que pida al usuario la base y la altura de un triángulo y\n",
        "calcule su área."
      ],
      "metadata": {
        "id": "5Js3lWnjsLpC"
      }
    },
    {
      "cell_type": "code",
      "source": [
        "base = 5\n",
        "altura = 10\n",
        "area = (base * altura) / 2\n",
        "\n",
        "print(\"El área del triángulo es:\", area)"
      ],
      "metadata": {
        "colab": {
          "base_uri": "https://localhost:8080/"
        },
        "id": "Ge3MDj0_sNOr",
        "outputId": "3566568f-682f-456f-bb8e-e153a60aa1c7"
      },
      "execution_count": null,
      "outputs": [
        {
          "output_type": "stream",
          "name": "stdout",
          "text": [
            "El área del triángulo es: 25.0\n"
          ]
        }
      ]
    },
    {
      "cell_type": "markdown",
      "source": [
        "2. Escribe un programa que lea una temperatura en grados Celsius e imprima su\n",
        "equivalente en Fahrenheit.\n"
      ],
      "metadata": {
        "id": "OWZZXM07sxjz"
      }
    },
    {
      "cell_type": "code",
      "source": [
        "celsius = 24\n",
        "fahrenheit = (celsius * 9/5) + 32\n",
        "print(\"La temperatura en Fahrenheit es:\", fahrenheit)"
      ],
      "metadata": {
        "colab": {
          "base_uri": "https://localhost:8080/"
        },
        "id": "mqENzm8JszhT",
        "outputId": "e3d48e30-834d-4872-bbb9-158216089572"
      },
      "execution_count": null,
      "outputs": [
        {
          "output_type": "stream",
          "name": "stdout",
          "text": [
            "La temperatura en Fahrenheit es: 75.2\n"
          ]
        }
      ]
    },
    {
      "cell_type": "markdown",
      "source": [
        "3. Escribe un programa que reciba tres números diferentes e indique cuál es el mayor."
      ],
      "metadata": {
        "id": "8TtxNp_otMfy"
      }
    },
    {
      "cell_type": "code",
      "source": [
        "num1 = 5\n",
        "num2 = 4\n",
        "num3 = 3\n",
        "\n",
        "if num1 >= num2 and num1 >= num3:\n",
        "  mayor = num1\n",
        "elif num2 >= num1 and num2 >= num3:\n",
        "  mayor = num2\n",
        "else:\n",
        "  mayor = num3\n",
        "\n",
        "print(\"El número mayor es:\", mayor)"
      ],
      "metadata": {
        "colab": {
          "base_uri": "https://localhost:8080/"
        },
        "id": "XBerMtuHtr87",
        "outputId": "9d84b800-804d-4e55-a139-4ab13a6c1e69"
      },
      "execution_count": null,
      "outputs": [
        {
          "output_type": "stream",
          "name": "stdout",
          "text": [
            "El número mayor es: 5\n"
          ]
        }
      ]
    },
    {
      "cell_type": "markdown",
      "source": [
        "4. Un cliente realiza una compra y se le aplica un descuento según el monto total:\n",
        "• Si gasta más de S/500, se le aplica 20%.\n",
        "• Si gasta entre S/200 y S/500, se le aplica 10%.\n",
        "• Si gasta menos de S/200, no tiene descuento.\n"
      ],
      "metadata": {
        "id": "8qRPFevbt2yr"
      }
    },
    {
      "cell_type": "code",
      "source": [
        "monto_total = float(input(\"Ingrese el monto total de la compra: \"))\n",
        "\n",
        "if monto_total > 500:\n",
        "  descuento = monto_total * 0.20\n",
        "  monto_final = monto_total - descuento\n",
        "  print(\"Se aplica un descuento del 20%. Monto final: S/\", monto_final)\n",
        "elif 200 <= monto_total <= 500:\n",
        "  descuento = monto_total * 0.10\n",
        "  monto_final = monto_total - descuento\n",
        "  print(\"Se aplica un descuento del 10%. Monto final: S/\", monto_final)\n",
        "else:\n",
        "  print(\"No se aplica descuento. Monto final: S/\", monto_total)"
      ],
      "metadata": {
        "id": "eeyu8uK3tx_j"
      },
      "execution_count": null,
      "outputs": []
    }
  ]
}